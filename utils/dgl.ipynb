{
 "cells": [
  {
   "cell_type": "code",
   "execution_count": 1,
   "metadata": {},
   "outputs": [],
   "source": [
    "import dgl\n",
    "\n",
    "ratings = dgl.heterograph(\n",
    "    {('user', '+1', 'movie') : [(0, 0), (0, 1), (1, 0)],\n",
    "     ('user', '-1', 'movie') : [(2, 1)]})"
   ]
  },
  {
   "cell_type": "code",
   "execution_count": 2,
   "metadata": {},
   "outputs": [],
   "source": [
    "import scipy.sparse as sp\n",
    "plus1 = sp.coo_matrix(([1, 1, 1], ([0, 0, 1], [0, 1, 0])), shape=(3, 2))\n",
    "minus1 = sp.coo_matrix(([1], ([2], [1])), shape=(3, 2))\n",
    "ratings = dgl.heterograph(\n",
    "    {('user', '+1', 'movie') : plus1,\n",
    "     ('user', '-1', 'movie') : minus1})\n",
    "\n",
    "# Creating from networkx graph\n",
    "import networkx as nx\n",
    "plus1 = nx.DiGraph()\n",
    "plus1.add_nodes_from(['u0', 'u1', 'u2'], bipartite=0)\n",
    "plus1.add_nodes_from(['m0', 'm1'], bipartite=1)\n",
    "plus1.add_edges_from([('u0', 'm0'), ('u0', 'm1'), ('u1', 'm0')])\n",
    "# To simplify the example, reuse the minus1 object.\n",
    "# This also means that you could use different sources of graph data\n",
    "# for different relationships.\n",
    "ratings = dgl.heterograph(\n",
    "    {('user', '+1', 'movie') : plus1,\n",
    "     ('user', '-1', 'movie') : minus1})\n",
    "\n",
    "# Creating from edge indices\n",
    "ratings = dgl.heterograph(\n",
    "    {('user', '+1', 'movie') : ([0, 0, 1], [0, 1, 0]),\n",
    "     ('user', '-1', 'movie') : ([2], [1])})"
   ]
  },
  {
   "cell_type": "code",
   "execution_count": 3,
   "metadata": {},
   "outputs": [
    {
     "name": "stdout",
     "output_type": "stream",
     "text": [
      "['__header__', '__version__', '__globals__', 'TvsP', 'PvsA', 'PvsV', 'AvsF', 'VvsC', 'PvsL', 'PvsC', 'A', 'C', 'F', 'L', 'P', 'T', 'V', 'PvsT', 'CNormPvsA', 'RNormPvsA', 'CNormPvsC', 'RNormPvsC', 'CNormPvsT', 'RNormPvsT', 'CNormPvsV', 'RNormPvsV', 'CNormVvsC', 'RNormVvsC', 'CNormAvsF', 'RNormAvsF', 'CNormPvsL', 'RNormPvsL', 'stopwords', 'nPvsT', 'nT', 'CNormnPvsT', 'RNormnPvsT', 'nnPvsT', 'nnT', 'CNormnnPvsT', 'RNormnnPvsT', 'PvsP', 'CNormPvsP', 'RNormPvsP']\n"
     ]
    }
   ],
   "source": [
    "import scipy.io\n",
    "import urllib.request\n",
    "\n",
    "data_url = 'https://s3.us-east-2.amazonaws.com/dgl.ai/dataset/ACM.mat'\n",
    "data_file_path = '/tmp/ACM.mat'\n",
    "\n",
    "urllib.request.urlretrieve(data_url, data_file_path)\n",
    "data = scipy.io.loadmat(data_file_path)\n",
    "print(list(data.keys()))"
   ]
  },
  {
   "cell_type": "code",
   "execution_count": 4,
   "metadata": {},
   "outputs": [
    {
     "name": "stdout",
     "output_type": "stream",
     "text": [
      "<class 'scipy.sparse.csc.csc_matrix'>\n",
      "#Papers: 12499\n",
      "#Authors: 17431\n",
      "#Links: 37055\n"
     ]
    }
   ],
   "source": [
    "print(type(data['PvsA']))\n",
    "print('#Papers:', data['PvsA'].shape[0])\n",
    "print('#Authors:', data['PvsA'].shape[1])\n",
    "print('#Links:', data['PvsA'].nnz)"
   ]
  },
  {
   "cell_type": "code",
   "execution_count": 5,
   "metadata": {},
   "outputs": [],
   "source": [
    "pa_g = dgl.heterograph({('paper', 'written-by', 'author') : data['PvsA']})\n",
    "# equivalent (shorter) API for creating heterograph with two node types:\n",
    "pa_g = dgl.bipartite(data['PvsA'], 'paper', 'written-by', 'author')"
   ]
  },
  {
   "cell_type": "code",
   "execution_count": 6,
   "metadata": {},
   "outputs": [
    {
     "name": "stdout",
     "output_type": "stream",
     "text": [
      "Node types: ['paper', 'author']\n",
      "Edge types: ['written-by']\n",
      "Canonical edge types: [('paper', 'written-by', 'author')]\n",
      "12499\n",
      "37055\n",
      "37055\n",
      "tensor([3532, 6421, 8516, 8560])\n",
      "37055\n"
     ]
    }
   ],
   "source": [
    "print('Node types:', pa_g.ntypes)\n",
    "print('Edge types:', pa_g.etypes)\n",
    "print('Canonical edge types:', pa_g.canonical_etypes)\n",
    "\n",
    "# Nodes and edges are assigned integer IDs starting from zero and each type has its own counting.\n",
    "# To distinguish the nodes and edges of different types, specify the type name as the argument.\n",
    "print(pa_g.number_of_nodes('paper'))\n",
    "# Canonical edge type name can be shortened to only one edge type name if it is\n",
    "# uniquely distinguishable.\n",
    "print(pa_g.number_of_edges(('paper', 'written-by', 'author')))\n",
    "print(pa_g.number_of_edges('written-by'))\n",
    "print(pa_g.successors(1, etype='written-by'))  # get the authors that write paper #1\n",
    "\n",
    "# Type name argument could be omitted whenever the behavior is unambiguous.\n",
    "print(pa_g.number_of_edges())  # Only one edge type, the edge type argument could be omitted"
   ]
  },
  {
   "cell_type": "code",
   "execution_count": 8,
   "metadata": {},
   "outputs": [
    {
     "data": {
      "text/plain": [
       "Graph(num_nodes={'paper': 12499, 'author': 17431},\n",
       "      num_edges={'written-by': 37055},\n",
       "      metagraph=[('paper', 'author')])"
      ]
     },
     "execution_count": 8,
     "metadata": {},
     "output_type": "execute_result"
    }
   ],
   "source": [
    "pa_g."
   ]
  },
  {
   "cell_type": "code",
   "execution_count": 16,
   "metadata": {},
   "outputs": [
    {
     "name": "stdout",
     "output_type": "stream",
     "text": [
      "Graph(num_nodes={'paper': 12499, 'author': 17431, 'subject': 73},\n",
      "      num_edges={'written-by': 37055, 'writing': 37055, 'citing': 30789, 'cited': 30789, 'is-about': 12499, 'has': 12499},\n",
      "      metagraph=[('paper', 'author'), ('paper', 'paper'), ('paper', 'paper'), ('paper', 'subject'), ('author', 'paper'), ('subject', 'paper')])\n"
     ]
    }
   ],
   "source": [
    "G = dgl.heterograph({\n",
    "        ('paper', 'written-by', 'author') : data['PvsA'],\n",
    "        ('author', 'writing', 'paper') : data['PvsA'].transpose(),\n",
    "        ('paper', 'citing', 'paper') : data['PvsP'],\n",
    "        ('paper', 'cited', 'paper') : data['PvsP'].transpose(),\n",
    "        ('paper', 'is-about', 'subject') : data['PvsL'],\n",
    "        ('subject', 'has', 'paper') : data['PvsL'].transpose(),\n",
    "    })\n",
    "\n",
    "print(G)"
   ]
  },
  {
   "cell_type": "code",
   "execution_count": 45,
   "metadata": {},
   "outputs": [
    {
     "ename": "DGLError",
     "evalue": "Edge type name must be specified if there are more than one edge types.",
     "output_type": "error",
     "traceback": [
      "\u001b[1;31m---------------------------------------------------------------------------\u001b[0m",
      "\u001b[1;31mDGLError\u001b[0m                                  Traceback (most recent call last)",
      "\u001b[1;32m<ipython-input-45-4d010fd04bb7>\u001b[0m in \u001b[0;36m<module>\u001b[1;34m\u001b[0m\n\u001b[1;32m----> 1\u001b[1;33m \u001b[0mG\u001b[0m\u001b[1;33m.\u001b[0m\u001b[0medges\u001b[0m\u001b[1;33m(\u001b[0m\u001b[1;33m)\u001b[0m\u001b[1;33m\u001b[0m\u001b[0m\n\u001b[0m",
      "\u001b[1;32mc:\\users\\dengqilin\\appdata\\local\\programs\\python\\python36\\lib\\site-packages\\dgl\\view.py\u001b[0m in \u001b[0;36m__call__\u001b[1;34m(self, *args, **kwargs)\u001b[0m\n\u001b[0;32m    340\u001b[0m     \u001b[1;32mdef\u001b[0m \u001b[0m__call__\u001b[0m\u001b[1;33m(\u001b[0m\u001b[0mself\u001b[0m\u001b[1;33m,\u001b[0m \u001b[1;33m*\u001b[0m\u001b[0margs\u001b[0m\u001b[1;33m,\u001b[0m \u001b[1;33m**\u001b[0m\u001b[0mkwargs\u001b[0m\u001b[1;33m)\u001b[0m\u001b[1;33m:\u001b[0m\u001b[1;33m\u001b[0m\u001b[0m\n\u001b[0;32m    341\u001b[0m         \u001b[1;34m\"\"\"Return all the edges.\"\"\"\u001b[0m\u001b[1;33m\u001b[0m\u001b[0m\n\u001b[1;32m--> 342\u001b[1;33m         \u001b[1;32mreturn\u001b[0m \u001b[0mself\u001b[0m\u001b[1;33m.\u001b[0m\u001b[0m_graph\u001b[0m\u001b[1;33m.\u001b[0m\u001b[0mall_edges\u001b[0m\u001b[1;33m(\u001b[0m\u001b[1;33m*\u001b[0m\u001b[0margs\u001b[0m\u001b[1;33m,\u001b[0m \u001b[1;33m**\u001b[0m\u001b[0mkwargs\u001b[0m\u001b[1;33m)\u001b[0m\u001b[1;33m\u001b[0m\u001b[0m\n\u001b[0m\u001b[0;32m    343\u001b[0m \u001b[1;33m\u001b[0m\u001b[0m\n\u001b[0;32m    344\u001b[0m \u001b[1;32mclass\u001b[0m \u001b[0mHeteroEdgeDataView\u001b[0m\u001b[1;33m(\u001b[0m\u001b[0mMutableMapping\u001b[0m\u001b[1;33m)\u001b[0m\u001b[1;33m:\u001b[0m\u001b[1;33m\u001b[0m\u001b[0m\n",
      "\u001b[1;32mc:\\users\\dengqilin\\appdata\\local\\programs\\python\\python36\\lib\\site-packages\\dgl\\heterograph.py\u001b[0m in \u001b[0;36mall_edges\u001b[1;34m(self, form, order, etype)\u001b[0m\n\u001b[0;32m   1257\u001b[0m         \u001b[1;33m(\u001b[0m\u001b[0mtensor\u001b[0m\u001b[1;33m(\u001b[0m\u001b[1;33m[\u001b[0m\u001b[1;36m1\u001b[0m\u001b[1;33m,\u001b[0m \u001b[1;36m0\u001b[0m\u001b[1;33m,\u001b[0m \u001b[1;36m1\u001b[0m\u001b[1;33m]\u001b[0m\u001b[1;33m)\u001b[0m\u001b[1;33m,\u001b[0m \u001b[0mtensor\u001b[0m\u001b[1;33m(\u001b[0m\u001b[1;33m[\u001b[0m\u001b[1;36m1\u001b[0m\u001b[1;33m,\u001b[0m \u001b[1;36m0\u001b[0m\u001b[1;33m,\u001b[0m \u001b[1;36m2\u001b[0m\u001b[1;33m]\u001b[0m\u001b[1;33m)\u001b[0m\u001b[1;33m)\u001b[0m\u001b[1;33m\u001b[0m\u001b[0m\n\u001b[0;32m   1258\u001b[0m         \"\"\"\n\u001b[1;32m-> 1259\u001b[1;33m         \u001b[0msrc\u001b[0m\u001b[1;33m,\u001b[0m \u001b[0mdst\u001b[0m\u001b[1;33m,\u001b[0m \u001b[0meid\u001b[0m \u001b[1;33m=\u001b[0m \u001b[0mself\u001b[0m\u001b[1;33m.\u001b[0m\u001b[0m_graph\u001b[0m\u001b[1;33m.\u001b[0m\u001b[0medges\u001b[0m\u001b[1;33m(\u001b[0m\u001b[0mself\u001b[0m\u001b[1;33m.\u001b[0m\u001b[0mget_etype_id\u001b[0m\u001b[1;33m(\u001b[0m\u001b[0metype\u001b[0m\u001b[1;33m)\u001b[0m\u001b[1;33m,\u001b[0m \u001b[0morder\u001b[0m\u001b[1;33m)\u001b[0m\u001b[1;33m\u001b[0m\u001b[0m\n\u001b[0m\u001b[0;32m   1260\u001b[0m         \u001b[1;32mif\u001b[0m \u001b[0mform\u001b[0m \u001b[1;33m==\u001b[0m \u001b[1;34m'all'\u001b[0m\u001b[1;33m:\u001b[0m\u001b[1;33m\u001b[0m\u001b[0m\n\u001b[0;32m   1261\u001b[0m             \u001b[1;32mreturn\u001b[0m \u001b[1;33m(\u001b[0m\u001b[0msrc\u001b[0m\u001b[1;33m.\u001b[0m\u001b[0mtousertensor\u001b[0m\u001b[1;33m(\u001b[0m\u001b[1;33m)\u001b[0m\u001b[1;33m,\u001b[0m \u001b[0mdst\u001b[0m\u001b[1;33m.\u001b[0m\u001b[0mtousertensor\u001b[0m\u001b[1;33m(\u001b[0m\u001b[1;33m)\u001b[0m\u001b[1;33m,\u001b[0m \u001b[0meid\u001b[0m\u001b[1;33m.\u001b[0m\u001b[0mtousertensor\u001b[0m\u001b[1;33m(\u001b[0m\u001b[1;33m)\u001b[0m\u001b[1;33m)\u001b[0m\u001b[1;33m\u001b[0m\u001b[0m\n",
      "\u001b[1;32mc:\\users\\dengqilin\\appdata\\local\\programs\\python\\python36\\lib\\site-packages\\dgl\\heterograph.py\u001b[0m in \u001b[0;36mget_etype_id\u001b[1;34m(self, etype)\u001b[0m\n\u001b[0;32m    486\u001b[0m         \u001b[1;32mif\u001b[0m \u001b[0metype\u001b[0m \u001b[1;32mis\u001b[0m \u001b[1;32mNone\u001b[0m\u001b[1;33m:\u001b[0m\u001b[1;33m\u001b[0m\u001b[0m\n\u001b[0;32m    487\u001b[0m             \u001b[1;32mif\u001b[0m \u001b[0mself\u001b[0m\u001b[1;33m.\u001b[0m\u001b[0m_graph\u001b[0m\u001b[1;33m.\u001b[0m\u001b[0mnumber_of_etypes\u001b[0m\u001b[1;33m(\u001b[0m\u001b[1;33m)\u001b[0m \u001b[1;33m!=\u001b[0m \u001b[1;36m1\u001b[0m\u001b[1;33m:\u001b[0m\u001b[1;33m\u001b[0m\u001b[0m\n\u001b[1;32m--> 488\u001b[1;33m                 raise DGLError('Edge type name must be specified if there are more than one '\n\u001b[0m\u001b[0;32m    489\u001b[0m                                'edge types.')\n\u001b[0;32m    490\u001b[0m             \u001b[1;32mreturn\u001b[0m \u001b[1;36m0\u001b[0m\u001b[1;33m\u001b[0m\u001b[0m\n",
      "\u001b[1;31mDGLError\u001b[0m: Edge type name must be specified if there are more than one edge types."
     ]
    }
   ],
   "source": [
    "G.edges()"
   ]
  },
  {
   "cell_type": "code",
   "execution_count": 19,
   "metadata": {},
   "outputs": [],
   "source": [
    "import numpy as np\n",
    "import torch\n",
    "import torch.nn as nn\n",
    "import torch.nn.functional as F\n",
    "\n",
    "pvc = data['PvsC'].tocsr()\n",
    "# find all papers published in KDD, ICML, VLDB\n",
    "c_selected = [0, 11, 13]  # KDD, ICML, VLDB\n",
    "p_selected = pvc[:, c_selected].tocoo()\n",
    "# generate labels\n",
    "labels = pvc.indices\n",
    "labels[labels == 11] = 1\n",
    "labels[labels == 13] = 2\n",
    "labels = torch.tensor(labels).long()\n",
    "\n",
    "# generate train/val/test split\n",
    "pid = p_selected.row\n",
    "shuffle = np.random.permutation(pid)\n",
    "train_idx = torch.tensor(shuffle[0:800]).long()\n",
    "val_idx = torch.tensor(shuffle[800:900]).long()\n",
    "test_idx = torch.tensor(shuffle[900:]).long()"
   ]
  },
  {
   "cell_type": "code",
   "execution_count": 33,
   "metadata": {},
   "outputs": [
    {
     "data": {
      "text/plain": [
       "(2094,)"
      ]
     },
     "execution_count": 33,
     "metadata": {},
     "output_type": "execute_result"
    }
   ],
   "source": [
    "pid.shape"
   ]
  },
  {
   "cell_type": "code",
   "execution_count": 57,
   "metadata": {},
   "outputs": [
    {
     "ename": "DGLError",
     "evalue": "Node type name must be specified if there are more than one node types.",
     "output_type": "error",
     "traceback": [
      "\u001b[1;31m---------------------------------------------------------------------------\u001b[0m",
      "\u001b[1;31mDGLError\u001b[0m                                  Traceback (most recent call last)",
      "\u001b[1;32m<ipython-input-57-ac4435bd634a>\u001b[0m in \u001b[0;36m<module>\u001b[1;34m\u001b[0m\n\u001b[1;32m----> 1\u001b[1;33m \u001b[0mG\u001b[0m\u001b[1;33m.\u001b[0m\u001b[0mndata\u001b[0m\u001b[1;33m(\u001b[0m\u001b[1;34m'paper'\u001b[0m\u001b[1;33m)\u001b[0m\u001b[1;33m\u001b[0m\u001b[0m\n\u001b[0m",
      "\u001b[1;32mc:\\users\\dengqilin\\appdata\\local\\programs\\python\\python36\\lib\\site-packages\\dgl\\heterograph.py\u001b[0m in \u001b[0;36mndata\u001b[1;34m(self)\u001b[0m\n\u001b[0;32m    538\u001b[0m         \u001b[0mnodes\u001b[0m\u001b[1;33m\u001b[0m\u001b[0m\n\u001b[0;32m    539\u001b[0m         \"\"\"\n\u001b[1;32m--> 540\u001b[1;33m         \u001b[1;32mreturn\u001b[0m \u001b[0mHeteroNodeDataView\u001b[0m\u001b[1;33m(\u001b[0m\u001b[0mself\u001b[0m\u001b[1;33m,\u001b[0m \u001b[1;32mNone\u001b[0m\u001b[1;33m,\u001b[0m \u001b[0mALL\u001b[0m\u001b[1;33m)\u001b[0m\u001b[1;33m\u001b[0m\u001b[0m\n\u001b[0m\u001b[0;32m    541\u001b[0m \u001b[1;33m\u001b[0m\u001b[0m\n\u001b[0;32m    542\u001b[0m     \u001b[1;33m@\u001b[0m\u001b[0mproperty\u001b[0m\u001b[1;33m\u001b[0m\u001b[0m\n",
      "\u001b[1;32mc:\\users\\dengqilin\\appdata\\local\\programs\\python\\python36\\lib\\site-packages\\dgl\\view.py\u001b[0m in \u001b[0;36m__init__\u001b[1;34m(self, graph, ntype, nodes)\u001b[0m\n\u001b[0;32m    285\u001b[0m         \u001b[0mself\u001b[0m\u001b[1;33m.\u001b[0m\u001b[0m_graph\u001b[0m \u001b[1;33m=\u001b[0m \u001b[0mgraph\u001b[0m\u001b[1;33m\u001b[0m\u001b[0m\n\u001b[0;32m    286\u001b[0m         \u001b[0mself\u001b[0m\u001b[1;33m.\u001b[0m\u001b[0m_ntype\u001b[0m \u001b[1;33m=\u001b[0m \u001b[0mntype\u001b[0m\u001b[1;33m\u001b[0m\u001b[0m\n\u001b[1;32m--> 287\u001b[1;33m         \u001b[0mself\u001b[0m\u001b[1;33m.\u001b[0m\u001b[0m_ntid\u001b[0m \u001b[1;33m=\u001b[0m \u001b[0mself\u001b[0m\u001b[1;33m.\u001b[0m\u001b[0m_graph\u001b[0m\u001b[1;33m.\u001b[0m\u001b[0mget_ntype_id\u001b[0m\u001b[1;33m(\u001b[0m\u001b[0mntype\u001b[0m\u001b[1;33m)\u001b[0m\u001b[1;33m\u001b[0m\u001b[0m\n\u001b[0m\u001b[0;32m    288\u001b[0m         \u001b[0mself\u001b[0m\u001b[1;33m.\u001b[0m\u001b[0m_nodes\u001b[0m \u001b[1;33m=\u001b[0m \u001b[0mnodes\u001b[0m\u001b[1;33m\u001b[0m\u001b[0m\n\u001b[0;32m    289\u001b[0m \u001b[1;33m\u001b[0m\u001b[0m\n",
      "\u001b[1;32mc:\\users\\dengqilin\\appdata\\local\\programs\\python\\python36\\lib\\site-packages\\dgl\\heterograph.py\u001b[0m in \u001b[0;36mget_ntype_id\u001b[1;34m(self, ntype)\u001b[0m\n\u001b[0;32m    461\u001b[0m         \u001b[1;32mif\u001b[0m \u001b[0mntype\u001b[0m \u001b[1;32mis\u001b[0m \u001b[1;32mNone\u001b[0m\u001b[1;33m:\u001b[0m\u001b[1;33m\u001b[0m\u001b[0m\n\u001b[0;32m    462\u001b[0m             \u001b[1;32mif\u001b[0m \u001b[0mself\u001b[0m\u001b[1;33m.\u001b[0m\u001b[0m_graph\u001b[0m\u001b[1;33m.\u001b[0m\u001b[0mnumber_of_ntypes\u001b[0m\u001b[1;33m(\u001b[0m\u001b[1;33m)\u001b[0m \u001b[1;33m!=\u001b[0m \u001b[1;36m1\u001b[0m\u001b[1;33m:\u001b[0m\u001b[1;33m\u001b[0m\u001b[0m\n\u001b[1;32m--> 463\u001b[1;33m                 raise DGLError('Node type name must be specified if there are more than one '\n\u001b[0m\u001b[0;32m    464\u001b[0m                                'node types.')\n\u001b[0;32m    465\u001b[0m             \u001b[1;32mreturn\u001b[0m \u001b[1;36m0\u001b[0m\u001b[1;33m\u001b[0m\u001b[0m\n",
      "\u001b[1;31mDGLError\u001b[0m: Node type name must be specified if there are more than one node types."
     ]
    }
   ],
   "source": [
    "G.ndata('paper')"
   ]
  },
  {
   "cell_type": "code",
   "execution_count": 53,
   "metadata": {},
   "outputs": [
    {
     "data": {
      "text/plain": [
       "NodeSpace(data={'Wh_written-by': tensor([[0.2342, 0.3199, 0.0658],\n",
       "        [0.1433, 0.2100, 0.0364],\n",
       "        [0.1550, 0.2062, 0.0729],\n",
       "        ...,\n",
       "        [0.1043, 0.2021, 0.0281],\n",
       "        [0.1094, 0.2057, 0.0293],\n",
       "        [0.1095, 0.2057, 0.0293]], grad_fn=<AddmmBackward>), 'Wh_citing': tensor([[ 1.0290, -0.8217, -1.8342],\n",
       "        [ 0.3535, -1.1083, -0.5215],\n",
       "        [ 0.6790, -1.7879, -0.2435],\n",
       "        ...,\n",
       "        [-0.0411, -0.5388, -0.5951],\n",
       "        [ 0.0067, -0.5627, -0.6351],\n",
       "        [ 0.0069, -0.5628, -0.6353]], grad_fn=<AddmmBackward>), 'Wh_cited': tensor([[ 1.2770, -2.3688, -1.2300],\n",
       "        [ 0.5546, -3.2293,  0.3917],\n",
       "        [ 0.6866, -4.4502,  1.1324],\n",
       "        ...,\n",
       "        [ 0.1296, -2.6325,  0.3993],\n",
       "        [ 0.1815, -2.6405,  0.3452],\n",
       "        [ 0.1817, -2.6405,  0.3449]], grad_fn=<AddmmBackward>), 'Wh_is-about': tensor([[ 0.4217,  0.2108, -0.2672],\n",
       "        [ 0.3612,  0.2423, -0.2083],\n",
       "        [ 0.3473,  0.3018, -0.1691],\n",
       "        ...,\n",
       "        [ 0.3387,  0.1728, -0.2016],\n",
       "        [ 0.3420,  0.1755, -0.2039],\n",
       "        [ 0.3420,  0.1755, -0.2039]], grad_fn=<AddmmBackward>), 'h': tensor([[ 2.6983, -5.7812, -3.7511],\n",
       "        [ 1.5443, -3.9990, -3.8600],\n",
       "        [ 2.4717, -5.0255, -4.3916],\n",
       "        ...,\n",
       "        [-1.0040, -3.1648, -1.7050],\n",
       "        [-0.8203, -3.6242, -1.6699],\n",
       "        [-0.9307, -3.2599, -1.6594]], grad_fn=<SumBackward1>)})"
      ]
     },
     "execution_count": 53,
     "metadata": {},
     "output_type": "execute_result"
    }
   ],
   "source": [
    "G.nodes['paper']"
   ]
  },
  {
   "cell_type": "code",
   "execution_count": 48,
   "metadata": {},
   "outputs": [
    {
     "data": {
      "text/plain": [
       "EdgeSpace(data={})"
      ]
     },
     "execution_count": 48,
     "metadata": {},
     "output_type": "execute_result"
    }
   ],
   "source": [
    "G.edges['citing']"
   ]
  },
  {
   "cell_type": "code",
   "execution_count": 43,
   "metadata": {},
   "outputs": [
    {
     "data": {
      "text/plain": [
       "[('paper', 'written-by', 'author'),\n",
       " ('author', 'writing', 'paper'),\n",
       " ('paper', 'citing', 'paper'),\n",
       " ('paper', 'cited', 'paper'),\n",
       " ('paper', 'is-about', 'subject'),\n",
       " ('subject', 'has', 'paper')]"
      ]
     },
     "execution_count": 43,
     "metadata": {},
     "output_type": "execute_result"
    }
   ],
   "source": [
    "p_selected"
   ]
  },
  {
   "cell_type": "code",
   "execution_count": 11,
   "metadata": {},
   "outputs": [],
   "source": [
    "import dgl.function as fn\n",
    "\n",
    "class HeteroRGCNLayer(nn.Module):\n",
    "    def __init__(self, in_size, out_size, etypes):\n",
    "        super(HeteroRGCNLayer, self).__init__()\n",
    "        # W_r for each relation\n",
    "        self.weight = nn.ModuleDict({\n",
    "                name : nn.Linear(in_size, out_size) for name in etypes\n",
    "            })\n",
    "\n",
    "    def forward(self, G, feat_dict):\n",
    "        # The input is a dictionary of node features for each type\n",
    "        funcs = {}\n",
    "        for srctype, etype, dsttype in G.canonical_etypes:\n",
    "            # Compute W_r * h\n",
    "            Wh = self.weight[etype](feat_dict[srctype])\n",
    "            # Save it in graph for message passing\n",
    "            G.nodes[srctype].data['Wh_%s' % etype] = Wh\n",
    "            # Specify per-relation message passing functions: (message_func, reduce_func).\n",
    "            # Note that the results are saved to the same destination feature 'h', which\n",
    "            # hints the type wise reducer for aggregation.\n",
    "            funcs[etype] = (fn.copy_u('Wh_%s' % etype, 'm'), fn.mean('m', 'h'))\n",
    "        # Trigger message passing of multiple types.\n",
    "        # The first argument is the message passing functions for each relation.\n",
    "        # The second one is the type wise reducer, could be \"sum\", \"max\",\n",
    "        # \"min\", \"mean\", \"stack\"\n",
    "        G.multi_update_all(funcs, 'sum')\n",
    "        # return the updated node feature dictionary\n",
    "        return {ntype : G.nodes[ntype].data['h'] for ntype in G.ntypes}"
   ]
  },
  {
   "cell_type": "code",
   "execution_count": 12,
   "metadata": {},
   "outputs": [],
   "source": [
    "class HeteroRGCN(nn.Module):\n",
    "    def __init__(self, G, in_size, hidden_size, out_size):\n",
    "        super(HeteroRGCN, self).__init__()\n",
    "        # Use trainable node embeddings as featureless inputs.\n",
    "        embed_dict = {ntype : nn.Parameter(torch.Tensor(G.number_of_nodes(ntype), in_size))\n",
    "                      for ntype in G.ntypes}\n",
    "        for key, embed in embed_dict.items():\n",
    "            nn.init.xavier_uniform_(embed)\n",
    "        self.embed = nn.ParameterDict(embed_dict)\n",
    "        # create layers\n",
    "        self.layer1 = HeteroRGCNLayer(in_size, hidden_size, G.etypes)\n",
    "        self.layer2 = HeteroRGCNLayer(hidden_size, out_size, G.etypes)\n",
    "\n",
    "    def forward(self, G):\n",
    "        h_dict = self.layer1(G, self.embed)\n",
    "        h_dict = {k : F.leaky_relu(h) for k, h in h_dict.items()}\n",
    "        h_dict = self.layer2(G, h_dict)\n",
    "        # get paper logits\n",
    "        return h_dict['paper']"
   ]
  },
  {
   "cell_type": "code",
   "execution_count": 34,
   "metadata": {},
   "outputs": [
    {
     "name": "stdout",
     "output_type": "stream",
     "text": [
      "Loss 1.1330, Train Acc 0.1850, Val Acc 0.2200 (Best 0.2200), Test Acc 0.1876 (Best 0.1876)\n",
      "Loss 0.7926, Train Acc 0.5362, Val Acc 0.4700 (Best 0.4700), Test Acc 0.4916 (Best 0.4916)\n",
      "Loss 0.3565, Train Acc 0.9438, Val Acc 0.8000 (Best 0.8000), Test Acc 0.7705 (Best 0.7705)\n",
      "Loss 0.1062, Train Acc 0.9862, Val Acc 0.8700 (Best 0.8700), Test Acc 0.7848 (Best 0.7881)\n",
      "Loss 0.0284, Train Acc 1.0000, Val Acc 0.8500 (Best 0.8700), Test Acc 0.7479 (Best 0.7881)\n",
      "Loss 0.0144, Train Acc 1.0000, Val Acc 0.8400 (Best 0.8700), Test Acc 0.7454 (Best 0.7881)\n",
      "Loss 0.0125, Train Acc 1.0000, Val Acc 0.8500 (Best 0.8700), Test Acc 0.7596 (Best 0.7881)\n",
      "Loss 0.0127, Train Acc 1.0000, Val Acc 0.8400 (Best 0.8700), Test Acc 0.7697 (Best 0.7881)\n",
      "Loss 0.0115, Train Acc 1.0000, Val Acc 0.8500 (Best 0.8700), Test Acc 0.7655 (Best 0.7881)\n",
      "Loss 0.0108, Train Acc 1.0000, Val Acc 0.8400 (Best 0.8700), Test Acc 0.7680 (Best 0.7881)\n",
      "Loss 0.0102, Train Acc 1.0000, Val Acc 0.8300 (Best 0.8700), Test Acc 0.7672 (Best 0.7881)\n",
      "Loss 0.0094, Train Acc 1.0000, Val Acc 0.8200 (Best 0.8700), Test Acc 0.7730 (Best 0.7881)\n",
      "Loss 0.0090, Train Acc 1.0000, Val Acc 0.8300 (Best 0.8700), Test Acc 0.7772 (Best 0.7881)\n",
      "Loss 0.0090, Train Acc 1.0000, Val Acc 0.8100 (Best 0.8700), Test Acc 0.7772 (Best 0.7881)\n",
      "Loss 0.0088, Train Acc 1.0000, Val Acc 0.8200 (Best 0.8700), Test Acc 0.7739 (Best 0.7881)\n",
      "Loss 0.0086, Train Acc 1.0000, Val Acc 0.8200 (Best 0.8700), Test Acc 0.7730 (Best 0.7881)\n",
      "Loss 0.0084, Train Acc 1.0000, Val Acc 0.8100 (Best 0.8700), Test Acc 0.7722 (Best 0.7881)\n",
      "Loss 0.0082, Train Acc 1.0000, Val Acc 0.7900 (Best 0.8700), Test Acc 0.7705 (Best 0.7881)\n",
      "Loss 0.0080, Train Acc 1.0000, Val Acc 0.7800 (Best 0.8700), Test Acc 0.7680 (Best 0.7881)\n",
      "Loss 0.0079, Train Acc 1.0000, Val Acc 0.7900 (Best 0.8700), Test Acc 0.7647 (Best 0.7881)\n"
     ]
    }
   ],
   "source": [
    "# Create the model. The output has three logits for three classes.\n",
    "model = HeteroRGCN(G, 30, 100, 3)\n",
    "\n",
    "opt = torch.optim.Adam(model.parameters(), lr=0.01, weight_decay=5e-4)\n",
    "\n",
    "best_val_acc = 0\n",
    "best_test_acc = 0\n",
    "\n",
    "for epoch in range(100):\n",
    "    logits = model(G)\n",
    "    # The loss is computed only for labeled nodes.\n",
    "    loss = F.cross_entropy(logits[train_idx], labels[train_idx])\n",
    "\n",
    "    pred = logits.argmax(1)\n",
    "    train_acc = (pred[train_idx] == labels[train_idx]).float().mean()\n",
    "    val_acc = (pred[val_idx] == labels[val_idx]).float().mean()\n",
    "    test_acc = (pred[test_idx] == labels[test_idx]).float().mean()\n",
    "\n",
    "    if best_val_acc < val_acc:\n",
    "        best_val_acc = val_acc\n",
    "        best_test_acc = test_acc\n",
    "\n",
    "    opt.zero_grad()\n",
    "    loss.backward()\n",
    "    opt.step()\n",
    "\n",
    "    if epoch % 5 == 0:\n",
    "        print('Loss %.4f, Train Acc %.4f, Val Acc %.4f (Best %.4f), Test Acc %.4f (Best %.4f)' % (\n",
    "            loss.item(),\n",
    "            train_acc.item(),\n",
    "            val_acc.item(),\n",
    "            best_val_acc.item(),\n",
    "            test_acc.item(),\n",
    "            best_test_acc.item(),\n",
    "        ))"
   ]
  },
  {
   "cell_type": "code",
   "execution_count": null,
   "metadata": {},
   "outputs": [],
   "source": []
  }
 ],
 "metadata": {
  "kernelspec": {
   "display_name": "Python 3",
   "language": "python",
   "name": "python3"
  },
  "language_info": {
   "codemirror_mode": {
    "name": "ipython",
    "version": 3
   },
   "file_extension": ".py",
   "mimetype": "text/x-python",
   "name": "python",
   "nbconvert_exporter": "python",
   "pygments_lexer": "ipython3",
   "version": "3.6.6"
  }
 },
 "nbformat": 4,
 "nbformat_minor": 2
}
